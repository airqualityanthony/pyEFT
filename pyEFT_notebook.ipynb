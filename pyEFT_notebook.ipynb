{
 "cells": [
  {
   "cell_type": "code",
   "execution_count": 1,
   "metadata": {},
   "outputs": [],
   "source": [
    "import pandas as pd\n",
    "import numpy as np\n",
    "import xlrd\n",
    "import math\n"
   ]
  },
  {
   "cell_type": "code",
   "execution_count": 35,
   "metadata": {
    "scrolled": false
   },
   "outputs": [
    {
     "name": "stdout",
     "output_type": "stream",
     "text": [
      "515 ms ± 10.2 ms per loop (mean ± std. dev. of 7 runs, 1 loop each)\n",
      "523 ms ± 21.3 ms per loop (mean ± std. dev. of 7 runs, 1 loop each)\n",
      "559 ms ± 20.2 ms per loop (mean ± std. dev. of 7 runs, 1 loop each)\n",
      "528 ms ± 10.4 ms per loop (mean ± std. dev. of 7 runs, 1 loop each)\n"
     ]
    }
   ],
   "source": [
    "noxef_cars = pd.read_excel(\"rtp_Copert5_NOxEFs_final_trimmed.xlsx\", sheet_name = \"Cars\")\n",
    "noxef_lgv = pd.read_excel(\"rtp_Copert5_NOxEFs_final_trimmed.xlsx\", sheet_name = \"LGVs\")\n",
    "noxef_hgv = pd.read_excel(\"rtp_Copert5_NOxEFs_final_trimmed.xlsx\", sheet_name = \"HGVs & Buses\")\n",
    "noxef_mbike = pd.read_excel(\"rtp_Copert5_NOxEFs_final_trimmed.xlsx\", sheet_name = \"Motorcycles\")\n"
   ]
  },
  {
   "cell_type": "code",
   "execution_count": 65,
   "metadata": {},
   "outputs": [
    {
     "name": "stdout",
     "output_type": "stream",
     "text": [
      "Index(['Vehicle type', 'Fuel / Size', 'Euro standard', 'ALPHA', 'BETA',\n",
      "       'GAMMA', 'DELTA', 'EPSILON', 'ZITA', 'ITA', 'THITA', 'RF',\n",
      "       'Min speed (km/h)', 'Max speed (km/h)'],\n",
      "      dtype='object')\n"
     ]
    }
   ],
   "source": [
    "print(noxef_cars.columns)"
   ]
  },
  {
   "cell_type": "code",
   "execution_count": 82,
   "metadata": {},
   "outputs": [],
   "source": [
    "AVG_SPEED = 30"
   ]
  },
  {
   "cell_type": "code",
   "execution_count": 80,
   "metadata": {},
   "outputs": [],
   "source": [
    "class Car_EF_functions:\n",
    "    def Speed(row):\n",
    "        if noxef_cars.loc[row,'Min speed (km/h)'] > AVG_SPEED:\n",
    "            SPEED = noxef_cars.loc[row,'Min speed (km/h)']\n",
    "        elif noxef_cars.loc[row,'Max speed (km/h)'] < AVG_SPEED:\n",
    "            SPEED = noxef_cars.loc[row,'Max speed (km/h)']\n",
    "        else: \n",
    "            SPEED = AVG_SPEED\n",
    "        return(SPEED)\n",
    "    def Diesel_Pre_Euro_NOx_EF(row): \n",
    "        EF = ((noxef_cars.loc[row,'ALPHA'] * (Speed(row) ** 2)) + (noxef_cars.loc[row,'BETA'] * Speed(row)) + noxef_cars.loc[row,'GAMMA'] + (noxef_cars.loc[row,'DELTA'] * math.log(Speed(row))) + (noxef_cars.loc[row,'EPSILON'] * math.exp(noxef_cars.loc[row,'ZITA'] * Speed(row))) + (noxef_cars.loc[row,'ITA'] * (Speed(row) ** noxef_cars.loc[row,'THITA']))) * (1 - noxef_cars.loc[row,'RF'])\n",
    "        return(str(EF))\n",
    "\n",
    "    def Diesel_Euro_1_to_5_NOx_EF(row):\n",
    "        EF = ((noxef_cars.loc[row,'ALPHA'] + noxef_cars.loc[row,'GAMMA'] * AVG_SPEED + noxef_cars.loc[row,'EPSILON'] * AVG_SPEED  ** 2 + noxef_cars.loc[row,'ZITA'] / AVG_SPEED ) / (1 + noxef_cars.loc[row,'BETA'] * AVG_SPEED + noxef_cars.loc[row,'DELTA'] * AVG_SPEED ** 2)) * (1 - noxef_cars.loc[row,'RF'])\n",
    "        print(EF)\n",
    "\n",
    "    def Diesel_Euro_6_NOx_EF(row):\n",
    "        EF =(noxef_cars.loc[row,'ALPHA']*AVG_SPEED**2+noxef_cars.loc[row,'BETA']*AVG_SPEED+noxef_cars.loc[row,'GAMMA']+noxef_cars.loc[row,'DELTA']/AVG_SPEED)/(noxef_cars.loc[row,'EPSILON']*AVG_SPEED**2+noxef_cars.loc[row,'ZITA']*AVG_SPEED+noxef_cars.loc[row,'ITA'])*(1-noxef_cars.loc[row,'RF'])\n",
    "        print(EF)\n",
    "\n",
    "    def Petrol_Pre_Euro_NOx_EF(row):\n",
    "        EF = ((noxef_cars.loc[row,'ALPHA'] * (AVG_SPEED ** 2)) + (noxef_cars.loc[row,'BETA'] * AVG_SPEED) + noxef_cars.loc[row,'GAMMA'] + (noxef_cars.loc[row,'DELTA'] * math.log(AVG_SPEED)) + (noxef_cars.loc[row,'EPSILON'] * math.exp(noxef_cars.loc[row,'ZITA'] * AVG_SPEED)) + (noxef_cars.loc[row,'ITA'] * (AVG_SPEED ** noxef_cars.loc[row,'THITA']))) * (1 - noxef_cars.loc[row,'RF'])\n",
    "        print(EF)\n",
    "\n",
    "    def Petrol_Euro_1_to_6_NOx_EF(row):\n",
    "        EF = ((noxef_cars.loc[row,'ALPHA'] + noxef_cars.loc[row,'GAMMA'] * AVG_SPEED + noxef_cars.loc[row,'EPSILON'] * AVG_SPEED  ** 2 + noxef_cars.loc[row,'ZITA'] / AVG_SPEED ) / (1 + noxef_cars.loc[row,'BETA'] * AVG_SPEED + noxef_cars.loc[row,'DELTA'] * AVG_SPEED ** 2)) * (1 - noxef_cars.loc[row,'RF'])\n",
    "        print(EF)\n",
    "        "
   ]
  },
  {
   "cell_type": "code",
   "execution_count": 83,
   "metadata": {},
   "outputs": [
    {
     "data": {
      "text/plain": [
       "'0.5889000000000001'"
      ]
     },
     "execution_count": 83,
     "metadata": {},
     "output_type": "execute_result"
    }
   ],
   "source": [
    "Car_EF_functions.Diesel_Pre_Euro_NOx_EF(0)"
   ]
  },
  {
   "cell_type": "code",
   "execution_count": null,
   "metadata": {},
   "outputs": [],
   "source": []
  }
 ],
 "metadata": {
  "kernelspec": {
   "display_name": "Python 3",
   "language": "python",
   "name": "python3"
  },
  "language_info": {
   "codemirror_mode": {
    "name": "ipython",
    "version": 3
   },
   "file_extension": ".py",
   "mimetype": "text/x-python",
   "name": "python",
   "nbconvert_exporter": "python",
   "pygments_lexer": "ipython3",
   "version": "3.7.4"
  }
 },
 "nbformat": 4,
 "nbformat_minor": 2
}
